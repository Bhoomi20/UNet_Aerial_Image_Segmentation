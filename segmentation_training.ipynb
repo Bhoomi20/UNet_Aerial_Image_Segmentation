{
 "cells": [
  {
   "cell_type": "code",
   "execution_count": 10,
   "id": "e2cd1697",
   "metadata": {},
   "outputs": [],
   "source": [
    "import os\n",
    "import sys\n",
    "import random\n",
    "import warnings\n",
    "import numpy as np\n",
    "import pandas as pd\n",
    "import matplotlib\n",
    "matplotlib.use('agg')\n",
    "import matplotlib.pyplot as plt\n",
    "from tqdm import tqdm\n",
    "from itertools import chain\n",
    "\n",
    "from skimage.io import imread, imshow, imread_collection, concatenate_images\n",
    "from skimage.transform import resize\n",
    "from skimage.morphology import label\n",
    "\n",
    "from keras.models import Model, load_model\n",
    "from keras.layers import Input\n",
    "from keras.layers.core import Dropout, Lambda\n",
    "from keras.layers.convolutional import Conv2D, Conv2DTranspose\n",
    "from keras.layers.pooling import MaxPooling2D\n",
    "from keras.layers.merge import concatenate\n",
    "from keras.callbacks import EarlyStopping, ModelCheckpoint\n",
    "from keras import backend as K\n",
    "\n",
    "import tensorflow as tf\n",
    "import cv2"
   ]
  },
  {
   "cell_type": "code",
   "execution_count": 2,
   "id": "92e70e66",
   "metadata": {},
   "outputs": [],
   "source": [
    "clahe = cv2.createCLAHE(clipLimit = 2.0, tileGridSize = (8, 8))"
   ]
  },
  {
   "cell_type": "code",
   "execution_count": 3,
   "id": "9cc6bb0d",
   "metadata": {},
   "outputs": [],
   "source": [
    "def addaptive_histogram(img, clahe):\n",
    "    H_list = [];\n",
    "    if len(img.shape) == 3:\n",
    "        r, g, b = cv2.split(img)\n",
    "        lit = [r, g, b]\n",
    "        for img1 in lit:          \n",
    "            equ = clahe.apply(img1)\n",
    "            H_list.append(equ)\n",
    "        H_img = cv2.merge((H_list[0], H_list[1], H_list[2]))\n",
    "    else:\n",
    "        H_img = clahe.apply(img)\n",
    "        \n",
    "    return H_img"
   ]
  },
  {
   "cell_type": "code",
   "execution_count": 4,
   "id": "c9a437d6",
   "metadata": {},
   "outputs": [],
   "source": [
    "IMG_WIDTH = 64\n",
    "IMG_HEIGHT = 64\n",
    "IMG_CHANNELS = 3\n",
    "\n",
    "img_PATH = './Dataset5/Original Image/'\n",
    "seg_PATH = './Dataset5/Targets Image/'#enter path to testing data"
   ]
  },
  {
   "cell_type": "code",
   "execution_count": 8,
   "id": "eac6ed7d",
   "metadata": {},
   "outputs": [
    {
     "name": "stdout",
     "output_type": "stream",
     "text": [
      "Imported all the dependencies\n"
     ]
    }
   ],
   "source": [
    "warnings.filterwarnings('ignore', category = UserWarning, module = 'skimage')\n",
    "seed = 42\n",
    "random.seed = seed\n",
    "np.random.seed = seed\n",
    "\n",
    "print(\"Imported all the dependencies\")"
   ]
  },
  {
   "cell_type": "code",
   "execution_count": 6,
   "id": "b69c9253",
   "metadata": {},
   "outputs": [
    {
     "name": "stderr",
     "output_type": "stream",
     "text": [
      "c:\\users\\kitty\\appdata\\local\\programs\\python\\python37\\lib\\site-packages\\ipykernel_launcher.py:2: DeprecationWarning: `np.bool` is a deprecated alias for the builtin `bool`. To silence this warning, use `bool` by itself. Doing this will not modify any behavior and is safe. If you specifically wanted the numpy scalar type, use `np.bool_` here.\n",
      "Deprecated in NumPy 1.20; for more details and guidance: https://numpy.org/devdocs/release/1.20.0-notes.html#deprecations\n",
      "  \n"
     ]
    }
   ],
   "source": [
    "X_train = np.zeros((len(os.listdir(img_PATH)), IMG_HEIGHT, IMG_WIDTH, IMG_CHANNELS), dtype = np.uint8)\n",
    "Y_train = np.zeros((len(os.listdir(seg_PATH)), IMG_HEIGHT, IMG_WIDTH, 1), dtype = np.bool)"
   ]
  },
  {
   "cell_type": "code",
   "execution_count": 9,
   "id": "17cdde5f",
   "metadata": {},
   "outputs": [
    {
     "name": "stdout",
     "output_type": "stream",
     "text": [
      "Getting and resizing train images and masks ... \n"
     ]
    }
   ],
   "source": [
    "print('Getting and resizing train images and masks ... ')\n",
    "sys.stdout.flush()"
   ]
  },
  {
   "cell_type": "code",
   "execution_count": null,
   "id": "1125bbbf",
   "metadata": {},
   "outputs": [],
   "source": [
    "n = 0\n",
    "for img_dir1 in os.listdir(img_PATH):\n",
    "    #print(img_dir1)\n",
    "    img = imread(img_PATH + img_dir1)[:, :, :IMG_CHANNELS]\n",
    "    img = addaptive_histogram(img, clahe)\n",
    "    \n",
    "    img90 = cv2.rotate(img, cv2.cv2.ROTATE_90_CLOCKWISE)\n",
    "    img90 = np.uint8(resize(img90, (IMG_HEIGHT, IMG_WIDTH), mode = 'constant', preserve_range = True))\n",
    "    \n",
    "    img180 = cv2.rotate(img, cv2.ROTATE_180)\n",
    "    img180 = np.uint8(resize(img180, (IMG_HEIGHT, IMG_WIDTH), mode = 'constant', preserve_range = True))\n",
    "    \n",
    "    img270 = cv2.rotate(img, cv2.ROTATE_90_COUNTERCLOCKWISE)\n",
    "    img270 = np.uint8(resize(img270, (IMG_HEIGHT, IMG_WIDTH), mode = 'constant', preserve_range = True))\n",
    "    \n",
    "    img = np.uint8(resize(img, (IMG_HEIGHT, IMG_WIDTH), mode = 'constant', preserve_range = True))\n",
    "    \n",
    "    image_list = [img, img90, img180, img270];\n",
    "\n",
    "    for add_img in image_list:\n",
    "        X_train[n] = add_img\n",
    "        n+=1\n",
    "    #if n==100:\n",
    "    #    break"
   ]
  },
  {
   "cell_type": "code",
   "execution_count": null,
   "id": "1fc5c265",
   "metadata": {},
   "outputs": [],
   "source": [
    "n=0\n",
    "for img_dir1 in os.listdir(seg_PATH):\n",
    "    #print(img_dir1)\n",
    "    mask = imread(seg_PATH + img_dir1)\n",
    "    mask[mask>0] = 1\n",
    "    mask = np.expand_dims(resize(mask, (IMG_HEIGHT, IMG_WIDTH), mode = 'constant', preserve_range = True), axis=-1)\n",
    "    mask = np.uint8(mask)\n",
    "    Y_train[n] = mask\n",
    "    n += 1\n",
    "    #if n == 100:\n",
    "    #    break"
   ]
  },
  {
   "cell_type": "code",
   "execution_count": null,
   "id": "1083b3a7",
   "metadata": {},
   "outputs": [],
   "source": [
    "\"\"\"\n",
    "for i in range(0,9):\n",
    "    img11 = imread(img_PATH + os.listdir(img_PATH)[0])[:, :, :IMG_CHANNELS]\n",
    "    img11 = cv2.resize(img11, (256, 256))\n",
    "\n",
    "    img22 = mask = imread(seg_PATH + os.listdir(seg_PATH)[0])\n",
    "    img22[img22 >= 1] = 255\n",
    "    img22 = cv2.resize(img22, (256, 256))\n",
    "    img22 = cv2.merge((img22, img22, img22))\n",
    "    Hori = np.concatenate((img11, img22), axis = 1)\n",
    "    cv2.imshow('HORIZONTAL', Hori)\n",
    "    cv2.waitKey(0)\n",
    "    cv2.destroyAllWindows()\n",
    "\"\"\"    "
   ]
  },
  {
   "cell_type": "code",
   "execution_count": null,
   "id": "341893e5",
   "metadata": {},
   "outputs": [],
   "source": [
    "# Get and resize test images\n",
    "X_test = X_train\n",
    "\n",
    "print(' Data Processing Done!')"
   ]
  },
  {
   "cell_type": "code",
   "execution_count": null,
   "id": "206b148e",
   "metadata": {},
   "outputs": [],
   "source": [
    "def mean_iou(y_true, y_pred):\n",
    "    prec = []\n",
    "    for t in np.arange(0.5, 1.0, 0.05):\n",
    "        y_pred_ = tf.to_int32(y_pred > t)\n",
    "        score, up_opt = tf.metrics.mean_iou(y_true, y_pred_, 2)\n",
    "        K.get_session().run(tf.local_variables_initializer())\n",
    "        with tf.control_dependencies([up_opt]):\n",
    "            score = tf.identity(score)\n",
    "        prec.append(score)\n",
    "    return K.mean(K.stack(prec), axis = 0)"
   ]
  },
  {
   "cell_type": "code",
   "execution_count": null,
   "id": "c16b84ae",
   "metadata": {},
   "outputs": [],
   "source": [
    "def U_NET():\n",
    "    # Build U-Net model\n",
    "    inputs = Input((IMG_HEIGHT, IMG_WIDTH, IMG_CHANNELS))\n",
    "    s = Lambda(lambda x: x / 255) (inputs)\n",
    "\n",
    "    c1 = Conv2D(16, (3, 3), activation = 'elu', kernel_initializer = 'he_normal', padding = 'same') (s)\n",
    "    c1 = Dropout(0.1) (c1)\n",
    "    c1 = Conv2D(16, (3, 3), activation = 'elu', kernel_initializer = 'he_normal', padding = 'same') (c1)\n",
    "    p1 = MaxPooling2D((2, 2)) (c1)\n",
    "    \n",
    "    c2 = Conv2D(32, (3, 3), activation = 'elu', kernel_initializer = 'he_normal', padding = 'same') (p1)\n",
    "    c2 = Dropout(0.1) (c2)\n",
    "    c2 = Conv2D(32, (3, 3), activation = 'elu', kernel_initializer = 'he_normal', padding = 'same') (c2)\n",
    "    p2 = MaxPooling2D((2, 2)) (c2)\n",
    "    \n",
    "    c3 = Conv2D(64, (3, 3), activation = 'elu', kernel_initializer = 'he_normal', padding = 'same') (p2)\n",
    "    c3 = Dropout(0.2) (c3)\n",
    "    c3 = Conv2D(64, (3, 3), activation = 'elu', kernel_initializer = 'he_normal', padding = 'same') (c3)\n",
    "    p3 = MaxPooling2D((2, 2)) (c3)\n",
    "    \n",
    "    c4 = Conv2D(128, (3, 3), activation = 'elu', kernel_initializer = 'he_normal', padding = 'same') (p3)\n",
    "    c4 = Dropout(0.2) (c4)\n",
    "    c4 = Conv2D(128, (3, 3), activation = 'elu', kernel_initializer = 'he_normal', padding = 'same') (c4)\n",
    "    p4 = MaxPooling2D(pool_size = (2, 2)) (c4)\n",
    "    \n",
    "    c5 = Conv2D(256, (3, 3), activation = 'elu', kernel_initializer = 'he_normal', padding = 'same') (p4)\n",
    "    c5 = Dropout(0.3) (c5)\n",
    "    c5 = Conv2D(256, (3, 3), activation = 'elu', kernel_initializer = 'he_normal', padding = 'same') (c5)\n",
    "    \n",
    "    u6 = Conv2DTranspose(128, (2, 2), strides = (2, 2), padding = 'same') (c5)\n",
    "    u6 = concatenate([u6, c4])\n",
    "    c6 = Conv2D(128, (3, 3), activation = 'elu', kernel_initializer='he_normal', padding = 'same') (u6)\n",
    "    c6 = Dropout(0.2) (c6)\n",
    "    c6 = Conv2D(128, (3, 3), activation = 'elu', kernel_initializer='he_normal', padding = 'same') (c6)\n",
    "    \n",
    "    u7 = Conv2DTranspose(64, (2, 2), strides = (2, 2), padding = 'same') (c6)\n",
    "    u7 = concatenate([u7, c3])\n",
    "    c7 = Conv2D(64, (3, 3), activation = 'elu', kernel_initializer = 'he_normal', padding = 'same') (u7)\n",
    "    c7 = Dropout(0.2) (c7)\n",
    "    c7 = Conv2D(64, (3, 3), activation = 'elu', kernel_initializer = 'he_normal', padding = 'same') (c7)\n",
    "    \n",
    "    u8 = Conv2DTranspose(32, (2, 2), strides = (2, 2), padding = 'same') (c7)\n",
    "    u8 = concatenate([u8, c2])\n",
    "    c8 = Conv2D(32, (3, 3), activation = 'elu', kernel_initializer = 'he_normal', padding = 'same') (u8)\n",
    "    c8 = Dropout(0.1) (c8)\n",
    "    c8 = Conv2D(32, (3, 3), activation = 'elu', kernel_initializer = 'he_normal', padding = 'same') (c8)\n",
    "    \n",
    "    u9 = Conv2DTranspose(16, (2, 2), strides = (2, 2), padding = 'same') (c8)\n",
    "    u9 = concatenate([u9, c1], axis = 3)\n",
    "    c9 = Conv2D(16, (3, 3), activation = 'elu', kernel_initializer = 'he_normal', padding = 'same') (u9)\n",
    "    c9 = Dropout(0.1) (c9)\n",
    "    c9 = Conv2D(16, (3, 3), activation = 'elu', kernel_initializer = 'he_normal', padding = 'same') (c9)\n",
    "    \n",
    "    outputs = Conv2D(1, (1, 1), activation = 'sigmoid') (c9)\n",
    "    \n",
    "    model = Model(inputs = [inputs], outputs = [outputs])\n",
    "    model.compile(optimizer = 'adam', loss = 'binary_crossentropy')\n",
    "    model.summary()\n",
    "    return model"
   ]
  },
  {
   "cell_type": "code",
   "execution_count": null,
   "id": "0bcadd20",
   "metadata": {},
   "outputs": [],
   "source": [
    "model = U_NET()"
   ]
  },
  {
   "cell_type": "code",
   "execution_count": null,
   "id": "53d1c13a",
   "metadata": {},
   "outputs": [],
   "source": [
    "# Fit model\n",
    "earlystopper = EarlyStopping(patience = 5, verbose = 1)\n",
    "checkpointer = ModelCheckpoint('model-dsbowl2018-1.h5', verbose = 1, save_best_only = True)\n",
    "results = model.fit(X_train, Y_train, validation_split = 0., batch_size = 16, epochs = 20, \n",
    "                    callbacks = [earlystopper, checkpointer])"
   ]
  }
 ],
 "metadata": {
  "kernelspec": {
   "display_name": "Python 3",
   "language": "python",
   "name": "python3"
  },
  "language_info": {
   "codemirror_mode": {
    "name": "ipython",
    "version": 3
   },
   "file_extension": ".py",
   "mimetype": "text/x-python",
   "name": "python",
   "nbconvert_exporter": "python",
   "pygments_lexer": "ipython3",
   "version": "3.7.4"
  }
 },
 "nbformat": 4,
 "nbformat_minor": 5
}
